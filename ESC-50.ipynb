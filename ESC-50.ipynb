{
  "cells": [
    {
      "cell_type": "markdown",
      "metadata": {
        "id": "yY0cLPMatwzk"
      },
      "source": [
        "#Imports"
      ]
    },
    {
      "cell_type": "code",
      "execution_count": null,
      "metadata": {
        "colab": {
          "base_uri": "https://localhost:8080/"
        },
        "id": "5cfLO7TyyOEy",
        "outputId": "1ad4b057-c626-42fa-bb67-f02bd255bdb4"
      },
      "outputs": [],
      "source": [
        "import librosa\n",
        "import librosa.feature\n",
        "import pandas as pd\n",
        "import csv\n",
        "import numpy as np\n",
        "import librosa.display\n",
        "from sklearn.model_selection import train_test_split\n",
        "from tensorflow.keras.utils import to_categorical\n",
        "from sklearn.preprocessing import StandardScaler\n",
        "import matplotlib.pyplot as plt\n",
        "from collections import Counter\n",
        "import tensorflow as tf\n",
        "from keras.models import Sequential\n",
        "import IPython.display as ipd\n",
        "from keras.layers import Dropout, Dense, Flatten\n",
        "import warnings\n",
        "warnings.filterwarnings('ignore')"
      ]
    },
    {
      "cell_type": "markdown",
      "metadata": {
        "id": "x8as26_Utz83"
      },
      "source": [
        "#Get the data"
      ]
    },
    {
      "cell_type": "markdown",
      "metadata": {
        "id": "lM0H7zRAt69w"
      },
      "source": [
        "Directories"
      ]
    },
    {
      "cell_type": "code",
      "execution_count": 2,
      "metadata": {
        "id": "P-RVx7NCt43r"
      },
      "outputs": [],
      "source": [
        "main_dir = 'ESC-50-master/'\n",
        "meta_file = main_dir+'meta/esc50.csv'\n",
        "audio_dir = main_dir+'audio/'"
      ]
    },
    {
      "cell_type": "markdown",
      "metadata": {
        "id": "GQJDcQySt9SH"
      },
      "source": [
        "Use Pandas read_csv to read meta data file and then make the Series of categories of sound and get the list of filenames"
      ]
    },
    {
      "cell_type": "code",
      "execution_count": 3,
      "metadata": {
        "id": "cqRBkT62zT1d"
      },
      "outputs": [],
      "source": [
        "meta_data = pd.read_csv(meta_file)\n",
        "all = meta_data[['target', 'category']].drop_duplicates().sort_values('target').reset_index().drop(['index', 'target'], axis=1)['category']\n",
        "filenames = meta_data.loc[:,'filename']"
      ]
    },
    {
      "cell_type": "markdown",
      "metadata": {
        "id": "mIoJ8Na_uy6I"
      },
      "source": [
        "All categories"
      ]
    },
    {
      "cell_type": "code",
      "execution_count": 4,
      "metadata": {
        "colab": {
          "base_uri": "https://localhost:8080/"
        },
        "id": "yYlFohXeuUjQ",
        "outputId": "fb88fc6f-816b-46e1-b48f-7a7dd8abf762"
      },
      "outputs": [
        {
          "data": {
            "text/plain": [
              "0                  dog\n",
              "1              rooster\n",
              "2                  pig\n",
              "3                  cow\n",
              "4                 frog\n",
              "5                  cat\n",
              "6                  hen\n",
              "7              insects\n",
              "8                sheep\n",
              "9                 crow\n",
              "10                rain\n",
              "11           sea_waves\n",
              "12      crackling_fire\n",
              "13            crickets\n",
              "14      chirping_birds\n",
              "15         water_drops\n",
              "16                wind\n",
              "17       pouring_water\n",
              "18        toilet_flush\n",
              "19        thunderstorm\n",
              "20         crying_baby\n",
              "21            sneezing\n",
              "22            clapping\n",
              "23           breathing\n",
              "24            coughing\n",
              "25           footsteps\n",
              "26            laughing\n",
              "27      brushing_teeth\n",
              "28             snoring\n",
              "29    drinking_sipping\n",
              "30     door_wood_knock\n",
              "31         mouse_click\n",
              "32     keyboard_typing\n",
              "33    door_wood_creaks\n",
              "34         can_opening\n",
              "35     washing_machine\n",
              "36      vacuum_cleaner\n",
              "37         clock_alarm\n",
              "38          clock_tick\n",
              "39      glass_breaking\n",
              "40          helicopter\n",
              "41            chainsaw\n",
              "42               siren\n",
              "43            car_horn\n",
              "44              engine\n",
              "45               train\n",
              "46        church_bells\n",
              "47            airplane\n",
              "48           fireworks\n",
              "49            hand_saw\n",
              "Name: category, dtype: object"
            ]
          },
          "execution_count": 4,
          "metadata": {},
          "output_type": "execute_result"
        }
      ],
      "source": [
        "all"
      ]
    },
    {
      "cell_type": "markdown",
      "metadata": {
        "id": "ly-OFEEt0p3w"
      },
      "source": [
        "#Make a feaure_dataset with 26 fearues"
      ]
    },
    {
      "cell_type": "markdown",
      "metadata": {
        "id": "ywfsd8QftTNX"
      },
      "source": [
        "Make mel spectrogram"
      ]
    },
    {
      "cell_type": "code",
      "execution_count": 5,
      "metadata": {
        "id": "9q3ejhF2pLYr"
      },
      "outputs": [],
      "source": [
        "def make_mel(samples, sample_rate):\n",
        "  sgram = librosa.stft(samples)\n",
        "  sgram_mag, _ = librosa.magphase(sgram)\n",
        "  mel_scale = librosa.feature.melspectrogram(S=sgram_mag, sr=sample_rate)\n",
        "  mel_sgram = librosa.amplitude_to_db(mel_scale, ref=np.min)\n",
        "  return mel_sgram"
      ]
    },
    {
      "cell_type": "markdown",
      "metadata": {
        "id": "nJzCGZm0tW1o"
      },
      "source": [
        "Example"
      ]
    },
    {
      "cell_type": "code",
      "execution_count": 6,
      "metadata": {
        "colab": {
          "base_uri": "https://localhost:8080/",
          "height": 520
        },
        "id": "e6di227MtYHP",
        "outputId": "eb20d6cd-c29a-4e20-8e9b-26f91efde3ce"
      },
      "outputs": [
        {
          "data": {
            "image/png": "[encoded data removed]",
            "text/plain": [
              "<Figure size 432x288 with 1 Axes>"
            ]
          },
          "metadata": {
            "needs_background": "light"
          },
          "output_type": "display_data"
        },
        {
          "data": {
            "image/png": "[encoded data removed]",
            "text/plain": [
              "<Figure size 432x288 with 2 Axes>"
            ]
          },
          "metadata": {
            "needs_background": "light"
          },
          "output_type": "display_data"
        }
      ],
      "source": [
        "samples, sample_rate = librosa.load(audio_dir + meta_data.loc[10,\"filename\"])#44100\n",
        "mel = make_mel(samples, sample_rate)\n",
        "\n",
        "plt.plot(samples)\n",
        "plt.show()\n",
        "\n",
        "librosa.display.specshow(mel)\n",
        "plt.colorbar()\n",
        "plt.show()"
      ]
    },
    {
      "cell_type": "markdown",
      "metadata": {
        "id": "iH3Oz13X1EwH"
      },
      "source": [
        "This function selects 26 features from an audio file and return one row equals to one file"
      ]
    },
    {
      "cell_type": "code",
      "execution_count": 7,
      "metadata": {
        "id": "_0mXirLOvjVE"
      },
      "outputs": [],
      "source": [
        "def prepare_data(filename):\n",
        "  samples, sample_rate = librosa.load(audio_dir+filename)#, mono=True, duration=30)\n",
        "  y = make_mel(samples, sample_rate)\n",
        "  # среденее квадратичное для семпла\n",
        "  rmse = librosa.feature.rms(y=samples)\n",
        "  # концентрация по классам (цветность)\n",
        "  chroma_stft = librosa.feature.chroma_stft(y=samples, sr=sample_rate)\n",
        "  # \"центр масс\" звука\n",
        "  spec_cent = librosa.feature.spectral_centroid(y=samples, sr=sample_rate)\n",
        "  # интервал частот\n",
        "  spec_bw = librosa.feature.spectral_bandwidth(y=samples, sr=sample_rate)\n",
        "  # высокие частоты снижаются до 0\n",
        "  rolloff = librosa.feature.spectral_rolloff(y=samples, sr=sample_rate)\n",
        "  # количетво пересечений нуля\n",
        "  zcr = librosa.feature.zero_crossing_rate(samples)\n",
        "  # mel/Гц\n",
        "  mfcc = librosa.feature.mfcc(y=samples, sr=sample_rate)\n",
        "  # one row of dataset\n",
        "  row = f'{filename} {np.mean(chroma_stft)} {np.mean(rmse)} {np.mean(spec_cent)} {np.mean(spec_bw)} {np.mean(rolloff)} {np.mean(zcr)}'    \n",
        "\n",
        "  for i in mfcc:\n",
        "    row += f' {np.mean(i)}'\n",
        "\n",
        "  return row.split()\n"
      ]
    },
    {
      "cell_type": "markdown",
      "metadata": {
        "id": "I4EE5c_z02Rf"
      },
      "source": [
        "Make a header"
      ]
    },
    {
      "cell_type": "code",
      "execution_count": 8,
      "metadata": {
        "id": "fnIxKfg708vC"
      },
      "outputs": [],
      "source": [
        "header = 'filename chroma_stft rmse spectral_centroid spectral_bandwidth rolloff zero_crossing_rate'\n",
        "for i in range(1, 21):\n",
        "    header += f' mfcc_{i}'\n",
        "header = header.split()"
      ]
    },
    {
      "cell_type": "markdown",
      "metadata": {
        "id": "gBxBrcKe1A2D"
      },
      "source": [
        "Make a body of dataset"
      ]
    },
    {
      "cell_type": "code",
      "execution_count": 10,
      "metadata": {
        "id": "EMPmGZ03oV4C"
      },
      "outputs": [],
      "source": [
        "with open(main_dir+'meta/feaure_dataset.csv', 'a', newline='') as filew:\n",
        "  writer = csv.writer(filew)\n",
        "  writer.writerow(header)\n",
        "\n",
        "  for filename in filenames:\n",
        "\n",
        "    row = prepare_data(filename)\n",
        "    writer.writerow(row)"
      ]
    },
    {
      "cell_type": "markdown",
      "metadata": {
        "id": "rZ25xBR51uvV"
      },
      "source": [
        "Read the new dataset"
      ]
    },
    {
      "cell_type": "code",
      "execution_count": 9,
      "metadata": {
        "id": "Sq7VVwgDyc_0"
      },
      "outputs": [],
      "source": [
        "x = pd.read_csv(main_dir+'meta/feaure_dataset.csv')\n",
        "y = meta_data['target']"
      ]
    },
    {
      "cell_type": "markdown",
      "metadata": {
        "id": "Td2BrB3A13Lv"
      },
      "source": [
        "Division into test (25%) and training set with train_test_split"
      ]
    },
    {
      "cell_type": "code",
      "execution_count": 10,
      "metadata": {
        "id": "9JcNkLQimluu"
      },
      "outputs": [],
      "source": [
        "x_train_dataset, x_test_dataset, y_train_dataset, y_test_dataset = train_test_split(x, y, test_size=0.25)"
      ]
    },
    {
      "cell_type": "markdown",
      "metadata": {
        "id": "KIygGNOj2J4y"
      },
      "source": [
        "Standardize values"
      ]
    },
    {
      "cell_type": "code",
      "execution_count": 11,
      "metadata": {
        "id": "Nw9Tw65nTbeh"
      },
      "outputs": [],
      "source": [
        "y_train = to_categorical(y_train_dataset, len(all))\n",
        "y_test = to_categorical(y_test_dataset, len(all))"
      ]
    },
    {
      "cell_type": "code",
      "execution_count": 12,
      "metadata": {
        "id": "BK6ECr6j3uP4"
      },
      "outputs": [],
      "source": [
        "scaler = StandardScaler()\n",
        "x_train = scaler.fit_transform(np.array(x_train_dataset.iloc[:, 1:], dtype = float))#iloc[:, 1:-1]\n",
        "x_test = scaler.fit_transform(np.array(x_test_dataset.iloc[:, 1:], dtype = float))\n",
        "x_test_dataset = x_test_dataset.reset_index().drop('index', axis=1)"
      ]
    },
    {
      "cell_type": "markdown",
      "metadata": {
        "id": "oWLGEyO82RE6"
      },
      "source": [
        "#Sequential model "
      ]
    },
    {
      "cell_type": "code",
      "execution_count": 14,
      "metadata": {
        "colab": {
          "base_uri": "https://localhost:8080/"
        },
        "id": "Bf4WBirpm1Al",
        "outputId": "0a16d403-54c5-46ee-b2df-1b7a072bad7d"
      },
      "outputs": [
        {
          "name": "stdout",
          "output_type": "stream",
          "text": [
            "Model: \"sequential\"\n",
            "_________________________________________________________________\n",
            " Layer (type)                Output Shape              Param #   \n",
            "=================================================================\n",
            " dense (Dense)               (None, 26, 250)           500       \n",
            "                                                                 \n",
            " dropout (Dropout)           (None, 26, 250)           0         \n",
            "                                                                 \n",
            " dense_1 (Dense)             (None, 26, 200)           50200     \n",
            "                                                                 \n",
            " dropout_1 (Dropout)         (None, 26, 200)           0         \n",
            "                                                                 \n",
            " dense_2 (Dense)             (None, 26, 125)           25125     \n",
            "                                                                 \n",
            " dropout_2 (Dropout)         (None, 26, 125)           0         \n",
            "                                                                 \n",
            " dense_3 (Dense)             (None, 26, 75)            9450      \n",
            "                                                                 \n",
            " dropout_3 (Dropout)         (None, 26, 75)            0         \n",
            "                                                                 \n",
            " dense_4 (Dense)             (None, 26, 50)            3800      \n",
            "                                                                 \n",
            " flatten (Flatten)           (None, 1300)              0         \n",
            "                                                                 \n",
            " dense_5 (Dense)             (None, 50)                65050     \n",
            "                                                                 \n",
            "=================================================================\n",
            "Total params: 154,125\n",
            "Trainable params: 154,125\n",
            "Non-trainable params: 0\n",
            "_________________________________________________________________\n"
          ]
        }
      ],
      "source": [
        "model = Sequential([\n",
        "        # Activation sigmoid + bias          \n",
        "        Dense(units=250, input_shape=(x_train.shape[1], 1), activation='sigmoid'),\n",
        "        # Reduse to 0 with p=0.2\n",
        "        Dropout(rate=0.2),\n",
        "\n",
        "        Dense(units=200, activation='sigmoid'),\n",
        "        Dropout(rate=0.5),\n",
        "\n",
        "        Dense(units=125, activation='relu'),\n",
        "        Dropout(rate=0.3),\n",
        "\n",
        "        Dense(units=75, activation='relu'),\n",
        "        Dropout(rate=0.5),\n",
        "\n",
        "        Dense(units=50, activation='relu'),\n",
        "        # Flat input\n",
        "        Flatten(),\n",
        "\n",
        "        Dense(units=50, activation='softmax'),\n",
        "])\n",
        "\n",
        "model.compile(optimizer='adam', loss='categorical_crossentropy', metrics=['accuracy', 'Precision'])\n",
        "model.summary()\n"
      ]
    },
    {
      "cell_type": "markdown",
      "metadata": {
        "id": "iCseHP962hxV"
      },
      "source": [
        "Trainning the model"
      ]
    },
    {
      "cell_type": "code",
      "execution_count": 15,
      "metadata": {
        "colab": {
          "base_uri": "https://localhost:8080/"
        },
        "id": "wdNoj8I5yhrH",
        "outputId": "517c9bb8-cb6c-4125-cb16-c0ab75efc226"
      },
      "outputs": [
        {
          "name": "stdout",
          "output_type": "stream",
          "text": [
            "Epoch 1/100\n",
            "38/38 [==============================] - 3s 39ms/step - loss: 4.0094 - accuracy: 0.0275 - precision: 0.0000e+00 - val_loss: 3.9185 - val_accuracy: 0.0133 - val_precision: 0.0000e+00\n",
            "Epoch 2/100\n",
            "38/38 [==============================] - 1s 26ms/step - loss: 3.9382 - accuracy: 0.0175 - precision: 0.0000e+00 - val_loss: 3.9206 - val_accuracy: 0.0167 - val_precision: 0.0000e+00\n",
            "Epoch 3/100\n",
            "38/38 [==============================] - 1s 28ms/step - loss: 3.9136 - accuracy: 0.0258 - precision: 0.0000e+00 - val_loss: 3.9142 - val_accuracy: 0.0200 - val_precision: 0.0000e+00\n",
            "Epoch 4/100\n",
            "38/38 [==============================] - 1s 26ms/step - loss: 3.9195 - accuracy: 0.0242 - precision: 0.0000e+00 - val_loss: 3.9177 - val_accuracy: 0.0133 - val_precision: 0.0000e+00\n",
            "Epoch 5/100\n",
            "38/38 [==============================] - 1s 29ms/step - loss: 3.9199 - accuracy: 0.0225 - precision: 0.0000e+00 - val_loss: 3.9144 - val_accuracy: 0.0233 - val_precision: 0.0000e+00\n",
            "Epoch 6/100\n",
            "38/38 [==============================] - 1s 26ms/step - loss: 3.9150 - accuracy: 0.0208 - precision: 0.0000e+00 - val_loss: 3.9148 - val_accuracy: 0.0200 - val_precision: 0.0000e+00\n",
            "Epoch 7/100\n",
            "38/38 [==============================] - 1s 26ms/step - loss: 3.9116 - accuracy: 0.0183 - precision: 0.0000e+00 - val_loss: 3.9151 - val_accuracy: 0.0133 - val_precision: 0.0000e+00\n",
            "Epoch 8/100\n",
            "38/38 [==============================] - 1s 26ms/step - loss: 3.9138 - accuracy: 0.0258 - precision: 0.0000e+00 - val_loss: 3.9158 - val_accuracy: 0.0167 - val_precision: 0.0000e+00\n",
            "Epoch 9/100\n",
            "38/38 [==============================] - 1s 27ms/step - loss: 3.9134 - accuracy: 0.0267 - precision: 0.0000e+00 - val_loss: 3.9179 - val_accuracy: 0.0100 - val_precision: 0.0000e+00\n",
            "Epoch 10/100\n",
            "38/38 [==============================] - 1s 27ms/step - loss: 3.9128 - accuracy: 0.0192 - precision: 0.0000e+00 - val_loss: 3.9145 - val_accuracy: 0.0133 - val_precision: 0.0000e+00\n",
            "Epoch 11/100\n",
            "38/38 [==============================] - 1s 26ms/step - loss: 3.9091 - accuracy: 0.0233 - precision: 0.0000e+00 - val_loss: 3.9163 - val_accuracy: 0.0100 - val_precision: 0.0000e+00\n",
            "Epoch 12/100\n",
            "38/38 [==============================] - 1s 27ms/step - loss: 3.9078 - accuracy: 0.0200 - precision: 0.0000e+00 - val_loss: 3.9165 - val_accuracy: 0.0200 - val_precision: 0.0000e+00\n",
            "Epoch 13/100\n",
            "38/38 [==============================] - 1s 27ms/step - loss: 3.9105 - accuracy: 0.0258 - precision: 0.0000e+00 - val_loss: 3.9154 - val_accuracy: 0.0067 - val_precision: 0.0000e+00\n",
            "Epoch 14/100\n",
            "38/38 [==============================] - 1s 27ms/step - loss: 3.9083 - accuracy: 0.0225 - precision: 0.0000e+00 - val_loss: 3.9178 - val_accuracy: 0.0133 - val_precision: 0.0000e+00\n",
            "Epoch 15/100\n",
            "38/38 [==============================] - 2s 40ms/step - loss: 3.9071 - accuracy: 0.0192 - precision: 0.0000e+00 - val_loss: 3.9189 - val_accuracy: 0.0167 - val_precision: 0.0000e+00\n",
            "Epoch 16/100\n",
            "38/38 [==============================] - 2s 48ms/step - loss: 3.9107 - accuracy: 0.0250 - precision: 0.0000e+00 - val_loss: 3.9203 - val_accuracy: 0.0167 - val_precision: 0.0000e+00\n",
            "Epoch 17/100\n",
            "38/38 [==============================] - 2s 50ms/step - loss: 3.9073 - accuracy: 0.0267 - precision: 0.0000e+00 - val_loss: 3.9166 - val_accuracy: 0.0167 - val_precision: 0.0000e+00\n",
            "Epoch 18/100\n",
            "38/38 [==============================] - 2s 44ms/step - loss: 3.9095 - accuracy: 0.0225 - precision: 0.0000e+00 - val_loss: 3.9172 - val_accuracy: 0.0167 - val_precision: 0.0000e+00\n",
            "Epoch 19/100\n",
            "38/38 [==============================] - 2s 44ms/step - loss: 3.9086 - accuracy: 0.0217 - precision: 0.0000e+00 - val_loss: 3.9162 - val_accuracy: 0.0167 - val_precision: 0.0000e+00\n",
            "Epoch 20/100\n",
            "38/38 [==============================] - 2s 48ms/step - loss: 3.9058 - accuracy: 0.0217 - precision: 0.0000e+00 - val_loss: 3.9185 - val_accuracy: 0.0133 - val_precision: 0.0000e+00\n",
            "Epoch 21/100\n",
            "38/38 [==============================] - 2s 43ms/step - loss: 3.9089 - accuracy: 0.0283 - precision: 0.0000e+00 - val_loss: 3.9166 - val_accuracy: 0.0167 - val_precision: 0.0000e+00\n",
            "Epoch 22/100\n",
            "38/38 [==============================] - 2s 44ms/step - loss: 3.9068 - accuracy: 0.0292 - precision: 0.0000e+00 - val_loss: 3.9178 - val_accuracy: 0.0133 - val_precision: 0.0000e+00\n",
            "Epoch 23/100\n",
            "38/38 [==============================] - 2s 49ms/step - loss: 3.9073 - accuracy: 0.0275 - precision: 0.0000e+00 - val_loss: 3.9178 - val_accuracy: 0.0133 - val_precision: 0.0000e+00\n",
            "Epoch 24/100\n",
            "38/38 [==============================] - 2s 45ms/step - loss: 3.9081 - accuracy: 0.0208 - precision: 0.0000e+00 - val_loss: 3.9192 - val_accuracy: 0.0167 - val_precision: 0.0000e+00\n",
            "Epoch 25/100\n",
            "38/38 [==============================] - 2s 52ms/step - loss: 3.9049 - accuracy: 0.0292 - precision: 0.0000e+00 - val_loss: 3.9186 - val_accuracy: 0.0167 - val_precision: 0.0000e+00\n",
            "Epoch 26/100\n",
            "38/38 [==============================] - 2s 47ms/step - loss: 3.9078 - accuracy: 0.0292 - precision: 0.0000e+00 - val_loss: 3.9204 - val_accuracy: 0.0067 - val_precision: 0.0000e+00\n",
            "Epoch 27/100\n",
            "38/38 [==============================] - 2s 50ms/step - loss: 3.9074 - accuracy: 0.0242 - precision: 0.0000e+00 - val_loss: 3.9209 - val_accuracy: 0.0167 - val_precision: 0.0000e+00\n",
            "Epoch 28/100\n",
            "38/38 [==============================] - 2s 48ms/step - loss: 3.9072 - accuracy: 0.0250 - precision: 0.0000e+00 - val_loss: 3.9217 - val_accuracy: 0.0133 - val_precision: 0.0000e+00\n",
            "Epoch 29/100\n",
            "38/38 [==============================] - 2s 51ms/step - loss: 3.9068 - accuracy: 0.0225 - precision: 0.0000e+00 - val_loss: 3.9186 - val_accuracy: 0.0133 - val_precision: 0.0000e+00\n",
            "Epoch 30/100\n",
            "38/38 [==============================] - 2s 50ms/step - loss: 3.9089 - accuracy: 0.0258 - precision: 0.0000e+00 - val_loss: 3.9187 - val_accuracy: 0.0167 - val_precision: 0.0000e+00\n",
            "Epoch 31/100\n",
            "38/38 [==============================] - 2s 49ms/step - loss: 3.9065 - accuracy: 0.0225 - precision: 0.0000e+00 - val_loss: 3.9241 - val_accuracy: 0.0100 - val_precision: 0.0000e+00\n",
            "Epoch 32/100\n",
            "38/38 [==============================] - 1s 29ms/step - loss: 3.9050 - accuracy: 0.0258 - precision: 0.0000e+00 - val_loss: 3.9191 - val_accuracy: 0.0133 - val_precision: 0.0000e+00\n",
            "Epoch 33/100\n",
            "38/38 [==============================] - 1s 27ms/step - loss: 3.9087 - accuracy: 0.0275 - precision: 0.0000e+00 - val_loss: 3.9197 - val_accuracy: 0.0167 - val_precision: 0.0000e+00\n",
            "Epoch 34/100\n",
            "38/38 [==============================] - 1s 27ms/step - loss: 3.9048 - accuracy: 0.0300 - precision: 0.0000e+00 - val_loss: 3.9203 - val_accuracy: 0.0167 - val_precision: 0.0000e+00\n",
            "Epoch 35/100\n",
            "38/38 [==============================] - 1s 27ms/step - loss: 3.9083 - accuracy: 0.0150 - precision: 0.0000e+00 - val_loss: 3.9220 - val_accuracy: 0.0067 - val_precision: 0.0000e+00\n",
            "Epoch 36/100\n",
            "38/38 [==============================] - 1s 27ms/step - loss: 3.9079 - accuracy: 0.0258 - precision: 0.0000e+00 - val_loss: 3.9199 - val_accuracy: 0.0167 - val_precision: 0.0000e+00\n",
            "Epoch 37/100\n",
            "38/38 [==============================] - 1s 26ms/step - loss: 3.9060 - accuracy: 0.0258 - precision: 0.0000e+00 - val_loss: 3.9219 - val_accuracy: 0.0133 - val_precision: 0.0000e+00\n",
            "Epoch 38/100\n",
            "38/38 [==============================] - 1s 27ms/step - loss: 3.9081 - accuracy: 0.0225 - precision: 0.0000e+00 - val_loss: 3.9202 - val_accuracy: 0.0167 - val_precision: 0.0000e+00\n",
            "Epoch 39/100\n",
            "38/38 [==============================] - 1s 27ms/step - loss: 3.9065 - accuracy: 0.0283 - precision: 0.0000e+00 - val_loss: 3.9212 - val_accuracy: 0.0100 - val_precision: 0.0000e+00\n",
            "Epoch 40/100\n",
            "38/38 [==============================] - 1s 28ms/step - loss: 3.9055 - accuracy: 0.0225 - precision: 0.0000e+00 - val_loss: 3.9218 - val_accuracy: 0.0167 - val_precision: 0.0000e+00\n",
            "Epoch 41/100\n",
            "38/38 [==============================] - 1s 26ms/step - loss: 3.9058 - accuracy: 0.0217 - precision: 0.0000e+00 - val_loss: 3.9208 - val_accuracy: 0.0167 - val_precision: 0.0000e+00\n",
            "Epoch 42/100\n",
            "38/38 [==============================] - 1s 27ms/step - loss: 3.9064 - accuracy: 0.0233 - precision: 0.0000e+00 - val_loss: 3.9213 - val_accuracy: 0.0167 - val_precision: 0.0000e+00\n",
            "Epoch 43/100\n",
            "38/38 [==============================] - 1s 27ms/step - loss: 3.9073 - accuracy: 0.0200 - precision: 0.0000e+00 - val_loss: 3.9209 - val_accuracy: 0.0167 - val_precision: 0.0000e+00\n",
            "Epoch 44/100\n",
            "38/38 [==============================] - 1s 27ms/step - loss: 3.9048 - accuracy: 0.0300 - precision: 0.0000e+00 - val_loss: 3.9210 - val_accuracy: 0.0200 - val_precision: 0.0000e+00\n",
            "Epoch 45/100\n",
            "38/38 [==============================] - 1s 26ms/step - loss: 3.9003 - accuracy: 0.0275 - precision: 0.0000e+00 - val_loss: 3.9196 - val_accuracy: 0.0267 - val_precision: 0.0000e+00\n",
            "Epoch 46/100\n",
            "38/38 [==============================] - 1s 28ms/step - loss: 3.8897 - accuracy: 0.0433 - precision: 0.0000e+00 - val_loss: 3.8837 - val_accuracy: 0.0467 - val_precision: 0.0000e+00\n",
            "Epoch 47/100\n",
            "38/38 [==============================] - 1s 27ms/step - loss: 3.5776 - accuracy: 0.1050 - precision: 0.4286 - val_loss: 3.1701 - val_accuracy: 0.1733 - val_precision: 0.5000\n",
            "Epoch 48/100\n",
            "38/38 [==============================] - 1s 27ms/step - loss: 2.8700 - accuracy: 0.2283 - precision: 0.5877 - val_loss: 2.6271 - val_accuracy: 0.2667 - val_precision: 0.6389\n",
            "Epoch 49/100\n",
            "38/38 [==============================] - 1s 27ms/step - loss: 2.4236 - accuracy: 0.3200 - precision: 0.6387 - val_loss: 2.4694 - val_accuracy: 0.3433 - val_precision: 0.6250\n",
            "Epoch 50/100\n",
            "38/38 [==============================] - 1s 26ms/step - loss: 2.2099 - accuracy: 0.3750 - precision: 0.6171 - val_loss: 2.2776 - val_accuracy: 0.3900 - val_precision: 0.7273\n",
            "Epoch 51/100\n",
            "38/38 [==============================] - 1s 27ms/step - loss: 2.0107 - accuracy: 0.4308 - precision: 0.6740 - val_loss: 2.2106 - val_accuracy: 0.3867 - val_precision: 0.6164\n",
            "Epoch 52/100\n",
            "38/38 [==============================] - 1s 27ms/step - loss: 1.8342 - accuracy: 0.4717 - precision: 0.7330 - val_loss: 2.2412 - val_accuracy: 0.4000 - val_precision: 0.5962\n",
            "Epoch 53/100\n",
            "38/38 [==============================] - 1s 27ms/step - loss: 1.6857 - accuracy: 0.5083 - precision: 0.7174 - val_loss: 2.2384 - val_accuracy: 0.3767 - val_precision: 0.5800\n",
            "Epoch 54/100\n",
            "38/38 [==============================] - 1s 27ms/step - loss: 1.6221 - accuracy: 0.5308 - precision: 0.7707 - val_loss: 2.1843 - val_accuracy: 0.4167 - val_precision: 0.6400\n",
            "Epoch 55/100\n",
            "38/38 [==============================] - 1s 27ms/step - loss: 1.5527 - accuracy: 0.5408 - precision: 0.7509 - val_loss: 2.2294 - val_accuracy: 0.4200 - val_precision: 0.6364\n",
            "Epoch 56/100\n",
            "38/38 [==============================] - 1s 26ms/step - loss: 1.4317 - accuracy: 0.5733 - precision: 0.7702 - val_loss: 2.2960 - val_accuracy: 0.4267 - val_precision: 0.6181\n",
            "Epoch 57/100\n",
            "38/38 [==============================] - 1s 27ms/step - loss: 1.4388 - accuracy: 0.5800 - precision: 0.7428 - val_loss: 2.2755 - val_accuracy: 0.4133 - val_precision: 0.5775\n",
            "Epoch 58/100\n",
            "38/38 [==============================] - 1s 27ms/step - loss: 1.3951 - accuracy: 0.5917 - precision: 0.7749 - val_loss: 2.2405 - val_accuracy: 0.4300 - val_precision: 0.6127\n",
            "Epoch 59/100\n",
            "38/38 [==============================] - 1s 27ms/step - loss: 1.3689 - accuracy: 0.5850 - precision: 0.7676 - val_loss: 2.2106 - val_accuracy: 0.4400 - val_precision: 0.6190\n",
            "Epoch 60/100\n",
            "38/38 [==============================] - 1s 27ms/step - loss: 1.2973 - accuracy: 0.6092 - precision: 0.7792 - val_loss: 2.2761 - val_accuracy: 0.4267 - val_precision: 0.6084\n",
            "Epoch 61/100\n",
            "38/38 [==============================] - 1s 28ms/step - loss: 1.3284 - accuracy: 0.6017 - precision: 0.7800 - val_loss: 2.3024 - val_accuracy: 0.4167 - val_precision: 0.5743\n",
            "Epoch 62/100\n",
            "38/38 [==============================] - 1s 27ms/step - loss: 1.2127 - accuracy: 0.6267 - precision: 0.7962 - val_loss: 2.4331 - val_accuracy: 0.4433 - val_precision: 0.5749\n",
            "Epoch 63/100\n",
            "38/38 [==============================] - 1s 27ms/step - loss: 1.2600 - accuracy: 0.6208 - precision: 0.7823 - val_loss: 2.3821 - val_accuracy: 0.4400 - val_precision: 0.5988\n",
            "Epoch 64/100\n",
            "38/38 [==============================] - 1s 26ms/step - loss: 1.2263 - accuracy: 0.6200 - precision: 0.7813 - val_loss: 2.3287 - val_accuracy: 0.4467 - val_precision: 0.6056\n",
            "Epoch 65/100\n",
            "38/38 [==============================] - 1s 27ms/step - loss: 1.1982 - accuracy: 0.6475 - precision: 0.8130 - val_loss: 2.4302 - val_accuracy: 0.4233 - val_precision: 0.5475\n",
            "Epoch 66/100\n",
            "38/38 [==============================] - 1s 27ms/step - loss: 1.2061 - accuracy: 0.6450 - precision: 0.8100 - val_loss: 2.4217 - val_accuracy: 0.3933 - val_precision: 0.5584\n",
            "Epoch 67/100\n",
            "38/38 [==============================] - 1s 27ms/step - loss: 1.1832 - accuracy: 0.6508 - precision: 0.8078 - val_loss: 2.4268 - val_accuracy: 0.4267 - val_precision: 0.5556\n",
            "Epoch 68/100\n",
            "38/38 [==============================] - 1s 27ms/step - loss: 1.1300 - accuracy: 0.6517 - precision: 0.8090 - val_loss: 2.5768 - val_accuracy: 0.4000 - val_precision: 0.5422\n",
            "Epoch 69/100\n",
            "38/38 [==============================] - 1s 28ms/step - loss: 1.1215 - accuracy: 0.6675 - precision: 0.8048 - val_loss: 2.5859 - val_accuracy: 0.3900 - val_precision: 0.5402\n",
            "Epoch 70/100\n",
            "38/38 [==============================] - 1s 27ms/step - loss: 1.1208 - accuracy: 0.6458 - precision: 0.7869 - val_loss: 2.5392 - val_accuracy: 0.4233 - val_precision: 0.5556\n",
            "Epoch 71/100\n",
            "38/38 [==============================] - 1s 27ms/step - loss: 1.0835 - accuracy: 0.6642 - precision: 0.8178 - val_loss: 2.7549 - val_accuracy: 0.4267 - val_precision: 0.5156\n",
            "Epoch 72/100\n",
            "38/38 [==============================] - 1s 28ms/step - loss: 1.0520 - accuracy: 0.6883 - precision: 0.8178 - val_loss: 2.6758 - val_accuracy: 0.4100 - val_precision: 0.5435\n",
            "Epoch 73/100\n",
            "38/38 [==============================] - 1s 28ms/step - loss: 1.0172 - accuracy: 0.6908 - precision: 0.8254 - val_loss: 2.6293 - val_accuracy: 0.4400 - val_precision: 0.5236\n",
            "Epoch 74/100\n",
            "38/38 [==============================] - 1s 27ms/step - loss: 1.0609 - accuracy: 0.6883 - precision: 0.8104 - val_loss: 2.6565 - val_accuracy: 0.4000 - val_precision: 0.5434\n",
            "Epoch 75/100\n",
            "38/38 [==============================] - 1s 27ms/step - loss: 1.0514 - accuracy: 0.6817 - precision: 0.8392 - val_loss: 2.6672 - val_accuracy: 0.4167 - val_precision: 0.5249\n",
            "Epoch 76/100\n",
            "38/38 [==============================] - 1s 27ms/step - loss: 1.0317 - accuracy: 0.6933 - precision: 0.8303 - val_loss: 2.6470 - val_accuracy: 0.4267 - val_precision: 0.5655\n",
            "Epoch 77/100\n",
            "38/38 [==============================] - 1s 28ms/step - loss: 1.0169 - accuracy: 0.6992 - precision: 0.8166 - val_loss: 2.6796 - val_accuracy: 0.4467 - val_precision: 0.5543\n",
            "Epoch 78/100\n",
            "38/38 [==============================] - 1s 27ms/step - loss: 0.9726 - accuracy: 0.7058 - precision: 0.8259 - val_loss: 2.8638 - val_accuracy: 0.3867 - val_precision: 0.5241\n",
            "Epoch 79/100\n",
            "38/38 [==============================] - 1s 27ms/step - loss: 0.9431 - accuracy: 0.6942 - precision: 0.8415 - val_loss: 2.8564 - val_accuracy: 0.3900 - val_precision: 0.5206\n",
            "Epoch 80/100\n",
            "38/38 [==============================] - 1s 27ms/step - loss: 0.9310 - accuracy: 0.7150 - precision: 0.8440 - val_loss: 2.8203 - val_accuracy: 0.4067 - val_precision: 0.4903\n",
            "Epoch 81/100\n",
            "38/38 [==============================] - 1s 27ms/step - loss: 0.9310 - accuracy: 0.7208 - precision: 0.8301 - val_loss: 2.8264 - val_accuracy: 0.4067 - val_precision: 0.5000\n",
            "Epoch 82/100\n",
            "38/38 [==============================] - 1s 28ms/step - loss: 0.9619 - accuracy: 0.6942 - precision: 0.8226 - val_loss: 2.7778 - val_accuracy: 0.4200 - val_precision: 0.5050\n",
            "Epoch 83/100\n",
            "38/38 [==============================] - 1s 28ms/step - loss: 0.9333 - accuracy: 0.7083 - precision: 0.8310 - val_loss: 2.8520 - val_accuracy: 0.4500 - val_precision: 0.5233\n",
            "Epoch 84/100\n",
            "38/38 [==============================] - 1s 28ms/step - loss: 0.9062 - accuracy: 0.7150 - precision: 0.8358 - val_loss: 2.7338 - val_accuracy: 0.4200 - val_precision: 0.5294\n",
            "Epoch 85/100\n",
            "38/38 [==============================] - 1s 28ms/step - loss: 0.8970 - accuracy: 0.7283 - precision: 0.8450 - val_loss: 2.9691 - val_accuracy: 0.4267 - val_precision: 0.4836\n",
            "Epoch 86/100\n",
            "38/38 [==============================] - 1s 27ms/step - loss: 0.8874 - accuracy: 0.7158 - precision: 0.8261 - val_loss: 2.8907 - val_accuracy: 0.4133 - val_precision: 0.5153\n",
            "Epoch 87/100\n",
            "38/38 [==============================] - 1s 28ms/step - loss: 0.8950 - accuracy: 0.7208 - precision: 0.8475 - val_loss: 2.9978 - val_accuracy: 0.4267 - val_precision: 0.5120\n",
            "Epoch 88/100\n",
            "38/38 [==============================] - 1s 28ms/step - loss: 0.8702 - accuracy: 0.7292 - precision: 0.8395 - val_loss: 2.9506 - val_accuracy: 0.4267 - val_precision: 0.5169\n",
            "Epoch 89/100\n",
            "38/38 [==============================] - 1s 27ms/step - loss: 0.8568 - accuracy: 0.7292 - precision: 0.8316 - val_loss: 3.0668 - val_accuracy: 0.4467 - val_precision: 0.5122\n",
            "Epoch 90/100\n",
            "38/38 [==============================] - 1s 28ms/step - loss: 0.8790 - accuracy: 0.7108 - precision: 0.8315 - val_loss: 2.7628 - val_accuracy: 0.4200 - val_precision: 0.5282\n",
            "Epoch 91/100\n",
            "38/38 [==============================] - 1s 28ms/step - loss: 0.8208 - accuracy: 0.7533 - precision: 0.8645 - val_loss: 2.8500 - val_accuracy: 0.4267 - val_precision: 0.5333\n",
            "Epoch 92/100\n",
            "38/38 [==============================] - 1s 27ms/step - loss: 0.8188 - accuracy: 0.7425 - precision: 0.8600 - val_loss: 2.9718 - val_accuracy: 0.4367 - val_precision: 0.5172\n",
            "Epoch 93/100\n",
            "38/38 [==============================] - 1s 28ms/step - loss: 0.8072 - accuracy: 0.7425 - precision: 0.8378 - val_loss: 3.0262 - val_accuracy: 0.4333 - val_precision: 0.5217\n",
            "Epoch 94/100\n",
            "38/38 [==============================] - 1s 28ms/step - loss: 0.7706 - accuracy: 0.7617 - precision: 0.8712 - val_loss: 3.1609 - val_accuracy: 0.4300 - val_precision: 0.5117\n",
            "Epoch 95/100\n",
            "38/38 [==============================] - 1s 28ms/step - loss: 0.8140 - accuracy: 0.7508 - precision: 0.8576 - val_loss: 2.9133 - val_accuracy: 0.4300 - val_precision: 0.5150\n",
            "Epoch 96/100\n",
            "38/38 [==============================] - 1s 28ms/step - loss: 0.7633 - accuracy: 0.7633 - precision: 0.8535 - val_loss: 3.0381 - val_accuracy: 0.4467 - val_precision: 0.5167\n",
            "Epoch 97/100\n",
            "38/38 [==============================] - 1s 28ms/step - loss: 0.7686 - accuracy: 0.7608 - precision: 0.8565 - val_loss: 2.9741 - val_accuracy: 0.4267 - val_precision: 0.5124\n",
            "Epoch 98/100\n",
            "38/38 [==============================] - 1s 29ms/step - loss: 0.7902 - accuracy: 0.7558 - precision: 0.8538 - val_loss: 2.9636 - val_accuracy: 0.4367 - val_precision: 0.5427\n",
            "Epoch 99/100\n",
            "38/38 [==============================] - 1s 28ms/step - loss: 0.7460 - accuracy: 0.7692 - precision: 0.8670 - val_loss: 3.0949 - val_accuracy: 0.4400 - val_precision: 0.5419\n",
            "Epoch 100/100\n",
            "38/38 [==============================] - 1s 28ms/step - loss: 0.7392 - accuracy: 0.7733 - precision: 0.8615 - val_loss: 2.9610 - val_accuracy: 0.4533 - val_precision: 0.5500\n"
          ]
        },
        {
          "data": {
            "text/plain": [
              "<keras.callbacks.History at 0x7fd2a5e82c10>"
            ]
          },
          "execution_count": 15,
          "metadata": {},
          "output_type": "execute_result"
        }
      ],
      "source": [
        "model.fit(x_train, y_train, epochs=100, validation_split=0.2)"
      ]
    },
    {
      "cell_type": "markdown",
      "metadata": {
        "id": "rm8EBOqy-HHi"
      },
      "source": [
        "#Testing"
      ]
    },
    {
      "cell_type": "markdown",
      "metadata": {
        "id": "IuS2a9E92bCV"
      },
      "source": [
        "Testing the model"
      ]
    },
    {
      "cell_type": "code",
      "execution_count": 16,
      "metadata": {
        "colab": {
          "base_uri": "https://localhost:8080/"
        },
        "id": "xvKLcEIy2cSB",
        "outputId": "acd2fb75-1812-4158-8325-42164cbe3c03"
      },
      "outputs": [
        {
          "name": "stdout",
          "output_type": "stream",
          "text": [
            "16/16 [==============================] - 0s 21ms/step - loss: 3.2397 - accuracy: 0.4300 - precision: 0.4917\n"
          ]
        },
        {
          "data": {
            "text/plain": [
              "[3.2397313117980957, 0.4300000071525574, 0.4917127192020416]"
            ]
          },
          "execution_count": 16,
          "metadata": {},
          "output_type": "execute_result"
        }
      ],
      "source": [
        "model.evaluate(x_test, y_test)"
      ]
    },
    {
      "cell_type": "markdown",
      "metadata": {
        "id": "lPkCw5aT3GoA"
      },
      "source": [
        "Control the model"
      ]
    },
    {
      "cell_type": "code",
      "execution_count": 20,
      "metadata": {
        "colab": {
          "base_uri": "https://localhost:8080/",
          "height": 206
        },
        "id": "sRAijr4LpT7I",
        "outputId": "bf4e5eb1-98a4-486f-b3d4-741872182106"
      },
      "outputs": [
        {
          "name": "stdout",
          "output_type": "stream",
          "text": [
            "predict num class: 18\n",
            "predict class: toilet_flush\n",
            "\n",
            "\n",
            "filename: 5-201664-A-18.wav\n",
            "class: toilet_flush\n",
            "num class: 18\n",
            "\n"
          ]
        },
        {
          "data": {
            "text/html": [
              "\n",
              "                <audio controls=\"controls\" >\n",
              "                    <source src=\"data:audio/wav;base64,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\" type=\"audio/wav\" />\n",
              "                    Your browser does not support the audio element.\n",
              "                </audio>\n",
              "              "
            ],
            "text/plain": [
              "<IPython.lib.display.Audio object>"
            ]
          },
          "execution_count": 20,
          "metadata": {},
          "output_type": "execute_result"
        }
      ],
      "source": [
        "# Index of row in x_test\n",
        "n = 11\n",
        "# Array shape extension\n",
        "x0 = np.expand_dims(x_test[n], 0)\n",
        "# Result of prediction\n",
        "result = model.predict(x0)\n",
        "# As softmax result\n",
        "arg_m = np.argmax(result)\n",
        "# Define the filenames and audio\n",
        "x_filename = x_test_dataset['filename'][n]\n",
        "m_filename = meta_data.filename\n",
        "samples, sample_rate = librosa.load(audio_dir + x_filename, sr=3000)\n",
        "\n",
        "print(f'predict num class: {arg_m}\\npredict class: {all[arg_m]}\\n\\n')\n",
        "print(f\"filename: {x_filename}\")\n",
        "print(f\"class: {meta_data[m_filename == x_filename]['category'].iloc[0]}\")\n",
        "print(f\"num class: {meta_data[m_filename == x_filename]['target'].iloc[0]}\\n\")\n",
        "\n",
        "ipd.Audio(samples, rate=sample_rate)"
      ]
    },
    {
      "cell_type": "code",
      "execution_count": 17,
      "metadata": {
        "colab": {
          "base_uri": "https://localhost:8080/"
        },
        "id": "hxFeG_XlD32C",
        "outputId": "5a5c8e73-d4b7-4bcb-a9a1-da180de27050"
      },
      "outputs": [
        {
          "name": "stdout",
          "output_type": "stream",
          "text": [
            "Наиболее трудный класс: pouring_water\n"
          ]
        }
      ],
      "source": [
        "all_res = np.argmax( model.predict(x_test) , axis=1)\n",
        "mask = all_res == np.array(y_test_dataset)\n",
        "false_res = all_res[~mask]\n",
        "c = Counter(false_res)\n",
        "num_class = list(c.keys())[list(c.values()).index(max(c.values()))]\n",
        "print(f'Наиболее трудный класс: {all[num_class]}')\n"
      ]
    }
  ],
  "metadata": {
    "colab": {
      "collapsed_sections": [],
      "name": "REAL IMPORTANT.ipynb",
      "provenance": []
    },
    "kernelspec": {
      "display_name": "Python 3",
      "name": "python3"
    },
    "language_info": {
      "name": "python"
    }
  },
  "nbformat": 4,
  "nbformat_minor": 0
}
